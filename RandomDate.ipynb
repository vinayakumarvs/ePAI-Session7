{
  "nbformat": 4,
  "nbformat_minor": 0,
  "metadata": {
    "colab": {
      "name": "RandomDate.ipynb",
      "provenance": [],
      "collapsed_sections": []
    },
    "kernelspec": {
      "name": "python3",
      "display_name": "Python 3"
    }
  },
  "cells": [
    {
      "cell_type": "code",
      "metadata": {
        "id": "LPaDKt9yIUly",
        "colab_type": "code",
        "colab": {
          "base_uri": "https://localhost:8080/",
          "height": 34
        },
        "outputId": "046aa68a-b188-4194-8cfc-3af2ca327757"
      },
      "source": [
        "import random\n",
        "import datetime\n",
        "print(datetime.datetime.now())"
      ],
      "execution_count": 4,
      "outputs": [
        {
          "output_type": "stream",
          "text": [
            "2020-09-07 16:07:29.872833\n"
          ],
          "name": "stdout"
        }
      ]
    },
    {
      "cell_type": "code",
      "metadata": {
        "id": "8lB_cAgGTn0H",
        "colab_type": "code",
        "colab": {}
      },
      "source": [
        "random_date = lambda start, end : start + datetime.timedelta(seconds=random.randint(0, int((end - start).total_seconds())))\n",
        "\n",
        "#suffix for the date\n",
        "suffix = lambda d: 'th' if d in [11,12,13] else {1:'st',2:'nd',3:'rd'}.get(d%10, 'th')\n",
        "\n",
        "#format date as 11th, Jun, 1992\n",
        "format_date = lambda date: date.strftime(\"%d\"+suffix(date.day)+\", %b, %Y\")"
      ],
      "execution_count": 5,
      "outputs": []
    },
    {
      "cell_type": "code",
      "metadata": {
        "id": "2LBrpxLNTvLS",
        "colab_type": "code",
        "colab": {
          "base_uri": "https://localhost:8080/",
          "height": 54
        },
        "outputId": "8d9c3496-3637-4adf-f51b-e9e9303d877c"
      },
      "source": [
        "random_dates = [format_date(random_date(datetime.datetime(1901, 1, 1), datetime.datetime(2020, 12, 31))) for _ in range(25)]\n",
        "print(random_dates)"
      ],
      "execution_count": 6,
      "outputs": [
        {
          "output_type": "stream",
          "text": [
            "['19th, Dec, 1989', '13th, Jul, 1921', '11th, Aug, 1946', '22nd, Sep, 1926', '04th, Aug, 1902', '18th, Jul, 1995', '20th, Jun, 2016', '28th, Jan, 1904', '13th, Sep, 1932', '15th, Jul, 1974', '24th, Mar, 1941', '10th, Jan, 1927', '28th, Nov, 1914', '18th, Jun, 2001', '21st, Nov, 2016', '18th, Jun, 2015', '18th, Feb, 1904', '15th, Jan, 2005', '18th, Aug, 1988', '15th, Jan, 1964', '16th, Mar, 2007', '07th, Jun, 1958', '29th, Jan, 1922', '25th, Jan, 1988', '26th, Jul, 2020']\n"
          ],
          "name": "stdout"
        }
      ]
    },
    {
      "cell_type": "code",
      "metadata": {
        "id": "kvNHNcdRTwYo",
        "colab_type": "code",
        "colab": {}
      },
      "source": [
        ""
      ],
      "execution_count": null,
      "outputs": []
    }
  ]
}